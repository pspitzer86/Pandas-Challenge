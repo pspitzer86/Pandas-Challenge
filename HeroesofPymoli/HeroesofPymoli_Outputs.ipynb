{
 "cells": [
  {
   "cell_type": "markdown",
   "metadata": {},
   "source": [
    "### Note\n",
    "* Instructions have been included for each segment. You do not have to follow them exactly, but they are included to help you think through the steps."
   ]
  },
  {
   "cell_type": "code",
   "execution_count": 2,
   "metadata": {},
   "outputs": [],
   "source": [
    "# Dependencies and Setup\n",
    "import pandas as pd\n",
    "\n",
    "# File to Load (Remember to Change These)\n",
    "PymoliData = \"purchase_data.csv\"\n",
    "\n",
    "# Read Purchasing File and store into Pandas data frame\n",
    "purchase_data = pd.read_csv(PymoliData)"
   ]
  },
  {
   "cell_type": "code",
   "execution_count": 3,
   "metadata": {},
   "outputs": [
    {
     "data": {
      "text/html": [
       "<div>\n",
       "<style scoped>\n",
       "    .dataframe tbody tr th:only-of-type {\n",
       "        vertical-align: middle;\n",
       "    }\n",
       "\n",
       "    .dataframe tbody tr th {\n",
       "        vertical-align: top;\n",
       "    }\n",
       "\n",
       "    .dataframe thead th {\n",
       "        text-align: right;\n",
       "    }\n",
       "</style>\n",
       "<table border=\"1\" class=\"dataframe\">\n",
       "  <thead>\n",
       "    <tr style=\"text-align: right;\">\n",
       "      <th></th>\n",
       "      <th>Purchase ID</th>\n",
       "      <th>SN</th>\n",
       "      <th>Age</th>\n",
       "      <th>Gender</th>\n",
       "      <th>Item ID</th>\n",
       "      <th>Item Name</th>\n",
       "      <th>Price</th>\n",
       "    </tr>\n",
       "  </thead>\n",
       "  <tbody>\n",
       "    <tr>\n",
       "      <th>0</th>\n",
       "      <td>0</td>\n",
       "      <td>Lisim78</td>\n",
       "      <td>20</td>\n",
       "      <td>Male</td>\n",
       "      <td>108</td>\n",
       "      <td>Extraction, Quickblade Of Trembling Hands</td>\n",
       "      <td>3.53</td>\n",
       "    </tr>\n",
       "    <tr>\n",
       "      <th>1</th>\n",
       "      <td>1</td>\n",
       "      <td>Lisovynya38</td>\n",
       "      <td>40</td>\n",
       "      <td>Male</td>\n",
       "      <td>143</td>\n",
       "      <td>Frenzied Scimitar</td>\n",
       "      <td>1.56</td>\n",
       "    </tr>\n",
       "    <tr>\n",
       "      <th>2</th>\n",
       "      <td>2</td>\n",
       "      <td>Ithergue48</td>\n",
       "      <td>24</td>\n",
       "      <td>Male</td>\n",
       "      <td>92</td>\n",
       "      <td>Final Critic</td>\n",
       "      <td>4.88</td>\n",
       "    </tr>\n",
       "    <tr>\n",
       "      <th>3</th>\n",
       "      <td>3</td>\n",
       "      <td>Chamassasya86</td>\n",
       "      <td>24</td>\n",
       "      <td>Male</td>\n",
       "      <td>100</td>\n",
       "      <td>Blindscythe</td>\n",
       "      <td>3.27</td>\n",
       "    </tr>\n",
       "    <tr>\n",
       "      <th>4</th>\n",
       "      <td>4</td>\n",
       "      <td>Iskosia90</td>\n",
       "      <td>23</td>\n",
       "      <td>Male</td>\n",
       "      <td>131</td>\n",
       "      <td>Fury</td>\n",
       "      <td>1.44</td>\n",
       "    </tr>\n",
       "  </tbody>\n",
       "</table>\n",
       "</div>"
      ],
      "text/plain": [
       "   Purchase ID             SN  Age Gender  Item ID  \\\n",
       "0            0        Lisim78   20   Male      108   \n",
       "1            1    Lisovynya38   40   Male      143   \n",
       "2            2     Ithergue48   24   Male       92   \n",
       "3            3  Chamassasya86   24   Male      100   \n",
       "4            4      Iskosia90   23   Male      131   \n",
       "\n",
       "                                   Item Name  Price  \n",
       "0  Extraction, Quickblade Of Trembling Hands   3.53  \n",
       "1                          Frenzied Scimitar   1.56  \n",
       "2                               Final Critic   4.88  \n",
       "3                                Blindscythe   3.27  \n",
       "4                                       Fury   1.44  "
      ]
     },
     "execution_count": 3,
     "metadata": {},
     "output_type": "execute_result"
    }
   ],
   "source": [
    "purchase_data.head()"
   ]
  },
  {
   "cell_type": "markdown",
   "metadata": {},
   "source": [
    "## Player Count"
   ]
  },
  {
   "cell_type": "markdown",
   "metadata": {},
   "source": [
    "* Display the total number of players\n"
   ]
  },
  {
   "cell_type": "code",
   "execution_count": 4,
   "metadata": {},
   "outputs": [
    {
     "data": {
      "text/html": [
       "<div>\n",
       "<style scoped>\n",
       "    .dataframe tbody tr th:only-of-type {\n",
       "        vertical-align: middle;\n",
       "    }\n",
       "\n",
       "    .dataframe tbody tr th {\n",
       "        vertical-align: top;\n",
       "    }\n",
       "\n",
       "    .dataframe thead th {\n",
       "        text-align: right;\n",
       "    }\n",
       "</style>\n",
       "<table border=\"1\" class=\"dataframe\">\n",
       "  <thead>\n",
       "    <tr style=\"text-align: right;\">\n",
       "      <th></th>\n",
       "      <th>Total Players</th>\n",
       "    </tr>\n",
       "  </thead>\n",
       "  <tbody>\n",
       "    <tr>\n",
       "      <th>0</th>\n",
       "      <td>576</td>\n",
       "    </tr>\n",
       "  </tbody>\n",
       "</table>\n",
       "</div>"
      ],
      "text/plain": [
       "   Total Players\n",
       "0            576"
      ]
     },
     "execution_count": 4,
     "metadata": {},
     "output_type": "execute_result"
    }
   ],
   "source": [
    "unique_names = len(purchase_data[\"SN\"].unique())\n",
    "total_players = pd.DataFrame({\"Total Players\" : [unique_names]})\n",
    "total_players"
   ]
  },
  {
   "cell_type": "markdown",
   "metadata": {},
   "source": [
    "## Purchasing Analysis (Total)"
   ]
  },
  {
   "cell_type": "markdown",
   "metadata": {},
   "source": [
    "* Run basic calculations to obtain number of unique items, average price, etc.\n",
    "\n",
    "\n",
    "* Create a summary data frame to hold the results\n",
    "\n",
    "\n",
    "* Optional: give the displayed data cleaner formatting\n",
    "\n",
    "\n",
    "* Display the summary data frame\n"
   ]
  },
  {
   "cell_type": "code",
   "execution_count": 5,
   "metadata": {
    "scrolled": true
   },
   "outputs": [
    {
     "data": {
      "text/html": [
       "<style  type=\"text/css\" >\n",
       "</style><table id=\"T_23160974_3dd0_11eb_942c_88cea25f11ec\" ><thead>    <tr>        <th class=\"blank level0\" ></th>        <th class=\"col_heading level0 col0\" >Number of Unique Items</th>        <th class=\"col_heading level0 col1\" >Average Price</th>        <th class=\"col_heading level0 col2\" >Number of Purchases</th>        <th class=\"col_heading level0 col3\" >Total Revenue</th>    </tr></thead><tbody>\n",
       "                <tr>\n",
       "                        <th id=\"T_23160974_3dd0_11eb_942c_88cea25f11eclevel0_row0\" class=\"row_heading level0 row0\" >0</th>\n",
       "                        <td id=\"T_23160974_3dd0_11eb_942c_88cea25f11ecrow0_col0\" class=\"data row0 col0\" >179</td>\n",
       "                        <td id=\"T_23160974_3dd0_11eb_942c_88cea25f11ecrow0_col1\" class=\"data row0 col1\" >$3.05</td>\n",
       "                        <td id=\"T_23160974_3dd0_11eb_942c_88cea25f11ecrow0_col2\" class=\"data row0 col2\" >780</td>\n",
       "                        <td id=\"T_23160974_3dd0_11eb_942c_88cea25f11ecrow0_col3\" class=\"data row0 col3\" >$2,379.77</td>\n",
       "            </tr>\n",
       "    </tbody></table>"
      ],
      "text/plain": [
       "<pandas.io.formats.style.Styler at 0x1d069020160>"
      ]
     },
     "execution_count": 5,
     "metadata": {},
     "output_type": "execute_result"
    }
   ],
   "source": [
    "unique_items = len(purchase_data[\"Item ID\"].unique())\n",
    "average_price = round(purchase_data[\"Price\"].mean(),2)\n",
    "number_purchases = purchase_data[\"Purchase ID\"].count()\n",
    "total_revenue = purchase_data[\"Price\"].sum()\n",
    "purchasing_analysis_total = pd.DataFrame({\"Number of Unique Items\" : [unique_items],\n",
    "                                          \"Average Price\" : [average_price],\n",
    "                                          \"Number of Purchases\" : [number_purchases],\n",
    "                                          \"Total Revenue\" : [total_revenue]})\n",
    "\n",
    "# formatting found on https://pbpython.com/styling-pandas.html\n",
    "\n",
    "format_price = {\"Average Price\" :\"${:,.2f}\", \"Total Revenue\" : \"${:,.2f}\"}\n",
    "\n",
    "\n",
    "purchasing_analysis_total.style.format(format_price)"
   ]
  },
  {
   "cell_type": "markdown",
   "metadata": {},
   "source": [
    "## Gender Demographics"
   ]
  },
  {
   "cell_type": "markdown",
   "metadata": {},
   "source": [
    "* Percentage and Count of Male Players\n",
    "\n",
    "\n",
    "* Percentage and Count of Female Players\n",
    "\n",
    "\n",
    "* Percentage and Count of Other / Non-Disclosed\n",
    "\n",
    "\n"
   ]
  },
  {
   "cell_type": "code",
   "execution_count": 6,
   "metadata": {},
   "outputs": [
    {
     "data": {
      "text/html": [
       "<style  type=\"text/css\" >\n",
       "</style><table id=\"T_2f356988_3dd0_11eb_aea1_88cea25f11ec\" ><thead>    <tr>        <th class=\"blank level0\" ></th>        <th class=\"col_heading level0 col0\" >Total Count</th>        <th class=\"col_heading level0 col1\" >Percentage of Players</th>    </tr>    <tr>        <th class=\"index_name level0\" >Gender</th>        <th class=\"blank\" ></th>        <th class=\"blank\" ></th>    </tr></thead><tbody>\n",
       "                <tr>\n",
       "                        <th id=\"T_2f356988_3dd0_11eb_aea1_88cea25f11eclevel0_row0\" class=\"row_heading level0 row0\" >Male</th>\n",
       "                        <td id=\"T_2f356988_3dd0_11eb_aea1_88cea25f11ecrow0_col0\" class=\"data row0 col0\" >484</td>\n",
       "                        <td id=\"T_2f356988_3dd0_11eb_aea1_88cea25f11ecrow0_col1\" class=\"data row0 col1\" >84.03%</td>\n",
       "            </tr>\n",
       "            <tr>\n",
       "                        <th id=\"T_2f356988_3dd0_11eb_aea1_88cea25f11eclevel0_row1\" class=\"row_heading level0 row1\" >Female</th>\n",
       "                        <td id=\"T_2f356988_3dd0_11eb_aea1_88cea25f11ecrow1_col0\" class=\"data row1 col0\" >81</td>\n",
       "                        <td id=\"T_2f356988_3dd0_11eb_aea1_88cea25f11ecrow1_col1\" class=\"data row1 col1\" >14.06%</td>\n",
       "            </tr>\n",
       "            <tr>\n",
       "                        <th id=\"T_2f356988_3dd0_11eb_aea1_88cea25f11eclevel0_row2\" class=\"row_heading level0 row2\" >Other / Non-Disclosed</th>\n",
       "                        <td id=\"T_2f356988_3dd0_11eb_aea1_88cea25f11ecrow2_col0\" class=\"data row2 col0\" >11</td>\n",
       "                        <td id=\"T_2f356988_3dd0_11eb_aea1_88cea25f11ecrow2_col1\" class=\"data row2 col1\" >1.91%</td>\n",
       "            </tr>\n",
       "    </tbody></table>"
      ],
      "text/plain": [
       "<pandas.io.formats.style.Styler at 0x1d06a5eaba8>"
      ]
     },
     "execution_count": 6,
     "metadata": {},
     "output_type": "execute_result"
    }
   ],
   "source": [
    "only_males = purchase_data.loc[purchase_data[\"Gender\"] == \"Male\"]\n",
    "unique_males = len(only_males[\"SN\"].unique())\n",
    "percent_males = round((unique_males/unique_names)*100,2)\n",
    "\n",
    "only_females = purchase_data.loc[purchase_data[\"Gender\"] == \"Female\"]\n",
    "unique_females = len(only_females[\"SN\"].unique())\n",
    "percent_females = round((unique_females/unique_names)*100,2)\n",
    "\n",
    "only_other = purchase_data.loc[purchase_data[\"Gender\"] == \"Other / Non-Disclosed\"]\n",
    "unique_other = len(only_other[\"SN\"].unique())\n",
    "percent_other = round((unique_other/unique_names)*100,2)\n",
    "\n",
    "gender_demographics = pd.DataFrame({\"Gender\" : [\"Male\", \"Female\", \"Other / Non-Disclosed\"],\n",
    "                                    \"Total Count\": [unique_males, unique_females, unique_other],\n",
    "                                    \"Percentage of Players\": [percent_males, percent_females, percent_other]})\n",
    "\n",
    "gender_demographics_indexed = gender_demographics.set_index(\"Gender\", inplace=True)\n",
    "\n",
    "# formatting found on https://pbpython.com/styling-pandas.html\n",
    "\n",
    "format_percent = {\"Percentage of Players\": \"{}%\"}\n",
    "\n",
    "gender_demographics.style.format(format_percent)"
   ]
  },
  {
   "cell_type": "markdown",
   "metadata": {},
   "source": [
    "\n",
    "## Purchasing Analysis (Gender)"
   ]
  },
  {
   "cell_type": "markdown",
   "metadata": {},
   "source": [
    "* Run basic calculations to obtain purchase count, avg. purchase price, avg. purchase total per person etc. by gender\n",
    "\n",
    "\n",
    "\n",
    "\n",
    "* Create a summary data frame to hold the results\n",
    "\n",
    "\n",
    "* Optional: give the displayed data cleaner formatting\n",
    "\n",
    "\n",
    "* Display the summary data frame"
   ]
  },
  {
   "cell_type": "code",
   "execution_count": 7,
   "metadata": {},
   "outputs": [
    {
     "data": {
      "text/html": [
       "<style  type=\"text/css\" >\n",
       "</style><table id=\"T_386db11c_3dd0_11eb_ba71_88cea25f11ec\" ><thead>    <tr>        <th class=\"blank level0\" ></th>        <th class=\"col_heading level0 col0\" >Purchase Count</th>        <th class=\"col_heading level0 col1\" >Average Purchase Price</th>        <th class=\"col_heading level0 col2\" >Total Purchase Value</th>        <th class=\"col_heading level0 col3\" >Avg Total Purchase by Person</th>    </tr>    <tr>        <th class=\"index_name level0\" >Gender</th>        <th class=\"blank\" ></th>        <th class=\"blank\" ></th>        <th class=\"blank\" ></th>        <th class=\"blank\" ></th>    </tr></thead><tbody>\n",
       "                <tr>\n",
       "                        <th id=\"T_386db11c_3dd0_11eb_ba71_88cea25f11eclevel0_row0\" class=\"row_heading level0 row0\" >Female</th>\n",
       "                        <td id=\"T_386db11c_3dd0_11eb_ba71_88cea25f11ecrow0_col0\" class=\"data row0 col0\" >113</td>\n",
       "                        <td id=\"T_386db11c_3dd0_11eb_ba71_88cea25f11ecrow0_col1\" class=\"data row0 col1\" >$3.20</td>\n",
       "                        <td id=\"T_386db11c_3dd0_11eb_ba71_88cea25f11ecrow0_col2\" class=\"data row0 col2\" >$361.94</td>\n",
       "                        <td id=\"T_386db11c_3dd0_11eb_ba71_88cea25f11ecrow0_col3\" class=\"data row0 col3\" >$4.47</td>\n",
       "            </tr>\n",
       "            <tr>\n",
       "                        <th id=\"T_386db11c_3dd0_11eb_ba71_88cea25f11eclevel0_row1\" class=\"row_heading level0 row1\" >Male</th>\n",
       "                        <td id=\"T_386db11c_3dd0_11eb_ba71_88cea25f11ecrow1_col0\" class=\"data row1 col0\" >652</td>\n",
       "                        <td id=\"T_386db11c_3dd0_11eb_ba71_88cea25f11ecrow1_col1\" class=\"data row1 col1\" >$3.02</td>\n",
       "                        <td id=\"T_386db11c_3dd0_11eb_ba71_88cea25f11ecrow1_col2\" class=\"data row1 col2\" >$1,967.64</td>\n",
       "                        <td id=\"T_386db11c_3dd0_11eb_ba71_88cea25f11ecrow1_col3\" class=\"data row1 col3\" >$4.07</td>\n",
       "            </tr>\n",
       "            <tr>\n",
       "                        <th id=\"T_386db11c_3dd0_11eb_ba71_88cea25f11eclevel0_row2\" class=\"row_heading level0 row2\" >Other / Non-Disclosed</th>\n",
       "                        <td id=\"T_386db11c_3dd0_11eb_ba71_88cea25f11ecrow2_col0\" class=\"data row2 col0\" >15</td>\n",
       "                        <td id=\"T_386db11c_3dd0_11eb_ba71_88cea25f11ecrow2_col1\" class=\"data row2 col1\" >$3.35</td>\n",
       "                        <td id=\"T_386db11c_3dd0_11eb_ba71_88cea25f11ecrow2_col2\" class=\"data row2 col2\" >$50.19</td>\n",
       "                        <td id=\"T_386db11c_3dd0_11eb_ba71_88cea25f11ecrow2_col3\" class=\"data row2 col3\" >$4.56</td>\n",
       "            </tr>\n",
       "    </tbody></table>"
      ],
      "text/plain": [
       "<pandas.io.formats.style.Styler at 0x1d06c2d04e0>"
      ]
     },
     "execution_count": 7,
     "metadata": {},
     "output_type": "execute_result"
    }
   ],
   "source": [
    "male_purchase_count = len(only_males[\"Purchase ID\"])\n",
    "male_avg_price = round(only_males[\"Price\"].mean(),2)\n",
    "male_total_revenue = only_males[\"Price\"].sum()\n",
    "male_avg_ind = round(male_total_revenue/unique_males,2)\n",
    "\n",
    "female_purchase_count = len(only_females[\"Purchase ID\"])\n",
    "female_avg_price = round(only_females[\"Price\"].mean(),2)\n",
    "female_total_revenue = only_females[\"Price\"].sum()\n",
    "female_avg_ind = round(female_total_revenue/unique_females,2)\n",
    "\n",
    "other_purchase_count = len(only_other[\"Purchase ID\"])\n",
    "other_avg_price = round(only_other[\"Price\"].mean(),2)\n",
    "other_total_revenue = only_other[\"Price\"].sum()\n",
    "other_avg_ind = round(other_total_revenue/unique_other,2)\n",
    "\n",
    "purchasing_analysis_gender = pd.DataFrame({\"Gender\": [\"Female\", \"Male\", \"Other / Non-Disclosed\"],\n",
    "                                           \"Purchase Count\": [female_purchase_count, male_purchase_count, other_purchase_count],\n",
    "                                           \"Average Purchase Price\" : [female_avg_price, male_avg_price, other_avg_price],\n",
    "                                           \"Total Purchase Value\" : [female_total_revenue, male_total_revenue, other_total_revenue],\n",
    "                                           \"Avg Total Purchase by Person\" : [female_avg_ind, male_avg_ind, other_avg_ind]})\n",
    "\n",
    "purchasing_analysis_gender_indexed = purchasing_analysis_gender.set_index(\"Gender\", inplace=True)\n",
    "\n",
    "# formatting found on https://pbpython.com/styling-pandas.html\n",
    "\n",
    "format_price = {\"Average Purchase Price\" :\"${:,.2f}\", \"Total Purchase Value\" : \"${:,.2f}\", \"Avg Total Purchase by Person\" : \"${:,.2f}\"}\n",
    "\n",
    "purchasing_analysis_gender.style.format(format_price)"
   ]
  },
  {
   "cell_type": "markdown",
   "metadata": {},
   "source": [
    "## Age Demographics"
   ]
  },
  {
   "cell_type": "markdown",
   "metadata": {},
   "source": [
    "* Establish bins for ages\n",
    "\n",
    "\n",
    "* Categorize the existing players using the age bins. Hint: use pd.cut()\n",
    "\n",
    "\n",
    "* Calculate the numbers and percentages by age group\n",
    "\n",
    "\n",
    "* Create a summary data frame to hold the results\n",
    "\n",
    "\n",
    "* Optional: round the percentage column to two decimal points\n",
    "\n",
    "\n",
    "* Display Age Demographics Table\n"
   ]
  },
  {
   "cell_type": "code",
   "execution_count": 8,
   "metadata": {},
   "outputs": [
    {
     "data": {
      "text/html": [
       "<style  type=\"text/css\" >\n",
       "</style><table id=\"T_49aaff58_3dd0_11eb_9a3e_88cea25f11ec\" ><thead>    <tr>        <th class=\"blank level0\" ></th>        <th class=\"col_heading level0 col0\" >Total Count</th>        <th class=\"col_heading level0 col1\" >Percentage of Players</th>    </tr>    <tr>        <th class=\"index_name level0\" >Age Group</th>        <th class=\"blank\" ></th>        <th class=\"blank\" ></th>    </tr></thead><tbody>\n",
       "                <tr>\n",
       "                        <th id=\"T_49aaff58_3dd0_11eb_9a3e_88cea25f11eclevel0_row0\" class=\"row_heading level0 row0\" >>10</th>\n",
       "                        <td id=\"T_49aaff58_3dd0_11eb_9a3e_88cea25f11ecrow0_col0\" class=\"data row0 col0\" >17</td>\n",
       "                        <td id=\"T_49aaff58_3dd0_11eb_9a3e_88cea25f11ecrow0_col1\" class=\"data row0 col1\" >2.95%</td>\n",
       "            </tr>\n",
       "            <tr>\n",
       "                        <th id=\"T_49aaff58_3dd0_11eb_9a3e_88cea25f11eclevel0_row1\" class=\"row_heading level0 row1\" >10-14</th>\n",
       "                        <td id=\"T_49aaff58_3dd0_11eb_9a3e_88cea25f11ecrow1_col0\" class=\"data row1 col0\" >22</td>\n",
       "                        <td id=\"T_49aaff58_3dd0_11eb_9a3e_88cea25f11ecrow1_col1\" class=\"data row1 col1\" >3.82%</td>\n",
       "            </tr>\n",
       "            <tr>\n",
       "                        <th id=\"T_49aaff58_3dd0_11eb_9a3e_88cea25f11eclevel0_row2\" class=\"row_heading level0 row2\" >15-19</th>\n",
       "                        <td id=\"T_49aaff58_3dd0_11eb_9a3e_88cea25f11ecrow2_col0\" class=\"data row2 col0\" >107</td>\n",
       "                        <td id=\"T_49aaff58_3dd0_11eb_9a3e_88cea25f11ecrow2_col1\" class=\"data row2 col1\" >18.58%</td>\n",
       "            </tr>\n",
       "            <tr>\n",
       "                        <th id=\"T_49aaff58_3dd0_11eb_9a3e_88cea25f11eclevel0_row3\" class=\"row_heading level0 row3\" >20-24</th>\n",
       "                        <td id=\"T_49aaff58_3dd0_11eb_9a3e_88cea25f11ecrow3_col0\" class=\"data row3 col0\" >258</td>\n",
       "                        <td id=\"T_49aaff58_3dd0_11eb_9a3e_88cea25f11ecrow3_col1\" class=\"data row3 col1\" >44.79%</td>\n",
       "            </tr>\n",
       "            <tr>\n",
       "                        <th id=\"T_49aaff58_3dd0_11eb_9a3e_88cea25f11eclevel0_row4\" class=\"row_heading level0 row4\" >25-29</th>\n",
       "                        <td id=\"T_49aaff58_3dd0_11eb_9a3e_88cea25f11ecrow4_col0\" class=\"data row4 col0\" >77</td>\n",
       "                        <td id=\"T_49aaff58_3dd0_11eb_9a3e_88cea25f11ecrow4_col1\" class=\"data row4 col1\" >13.37%</td>\n",
       "            </tr>\n",
       "            <tr>\n",
       "                        <th id=\"T_49aaff58_3dd0_11eb_9a3e_88cea25f11eclevel0_row5\" class=\"row_heading level0 row5\" >30-34</th>\n",
       "                        <td id=\"T_49aaff58_3dd0_11eb_9a3e_88cea25f11ecrow5_col0\" class=\"data row5 col0\" >52</td>\n",
       "                        <td id=\"T_49aaff58_3dd0_11eb_9a3e_88cea25f11ecrow5_col1\" class=\"data row5 col1\" >9.03%</td>\n",
       "            </tr>\n",
       "            <tr>\n",
       "                        <th id=\"T_49aaff58_3dd0_11eb_9a3e_88cea25f11eclevel0_row6\" class=\"row_heading level0 row6\" >35-39</th>\n",
       "                        <td id=\"T_49aaff58_3dd0_11eb_9a3e_88cea25f11ecrow6_col0\" class=\"data row6 col0\" >31</td>\n",
       "                        <td id=\"T_49aaff58_3dd0_11eb_9a3e_88cea25f11ecrow6_col1\" class=\"data row6 col1\" >5.38%</td>\n",
       "            </tr>\n",
       "            <tr>\n",
       "                        <th id=\"T_49aaff58_3dd0_11eb_9a3e_88cea25f11eclevel0_row7\" class=\"row_heading level0 row7\" >40+</th>\n",
       "                        <td id=\"T_49aaff58_3dd0_11eb_9a3e_88cea25f11ecrow7_col0\" class=\"data row7 col0\" >12</td>\n",
       "                        <td id=\"T_49aaff58_3dd0_11eb_9a3e_88cea25f11ecrow7_col1\" class=\"data row7 col1\" >2.08%</td>\n",
       "            </tr>\n",
       "    </tbody></table>"
      ],
      "text/plain": [
       "<pandas.io.formats.style.Styler at 0x1d06b250198>"
      ]
     },
     "execution_count": 8,
     "metadata": {},
     "output_type": "execute_result"
    }
   ],
   "source": [
    "bins = [0, 9.9, 14.9, 19.9, 24.9, 29.9, 34.9, 39.9, 100]\n",
    "\n",
    "group_labels = [\">10\", \"10-14\", \"15-19\", \"20-24\", \"25-29\", \"30-34\", \"35-39\", \"40+\"]\n",
    "\n",
    "# drop duplicates code found at https://pandas.pydata.org/pandas-docs/stable/reference/api/pandas.DataFrame.drop_duplicates.html\n",
    "\n",
    "data_drop = purchase_data.drop_duplicates(subset = \"SN\", keep ='first', inplace=False)\n",
    "\n",
    "purchase_data[\"Age Group\"] = pd.cut(data_drop[\"Age\"], bins, labels=group_labels)\n",
    "\n",
    "purchase_data_group = purchase_data.groupby([\"Age Group\"])\n",
    "number_per_age = purchase_data_group[\"Age\"].count()\n",
    "percent_per_age = round((number_per_age/unique_names)*100,2)\n",
    "\n",
    "merged_age_group = pd.merge(number_per_age, percent_per_age, on = \"Age Group\")\n",
    "merged_age_group_renamed = merged_age_group.rename(columns={\"Age_x\": \"Total Count\",\n",
    "                                                            \"Age_y\": \"Percentage of Players\"})\n",
    "\n",
    "# formatting found on https://pbpython.com/styling-pandas.html\n",
    "\n",
    "format_percent = {\"Percentage of Players\": \"{}%\"}\n",
    "\n",
    "merged_age_group_renamed.style.format(format_percent)"
   ]
  },
  {
   "cell_type": "markdown",
   "metadata": {},
   "source": [
    "## Purchasing Analysis (Age)"
   ]
  },
  {
   "cell_type": "markdown",
   "metadata": {},
   "source": [
    "* Bin the purchase_data data frame by age\n",
    "\n",
    "\n",
    "* Run basic calculations to obtain purchase count, avg. purchase price, avg. purchase total per person etc. in the table below\n",
    "\n",
    "\n",
    "* Create a summary data frame to hold the results\n",
    "\n",
    "\n",
    "* Optional: give the displayed data cleaner formatting\n",
    "\n",
    "\n",
    "* Display the summary data frame"
   ]
  },
  {
   "cell_type": "code",
   "execution_count": 9,
   "metadata": {},
   "outputs": [
    {
     "data": {
      "text/html": [
       "<style  type=\"text/css\" >\n",
       "</style><table id=\"T_53ad3900_3dd0_11eb_8d76_88cea25f11ec\" ><thead>    <tr>        <th class=\"blank level0\" ></th>        <th class=\"col_heading level0 col0\" >Purchase Count</th>        <th class=\"col_heading level0 col1\" >Average Purchase Price</th>        <th class=\"col_heading level0 col2\" >Total Purchase Value</th>        <th class=\"col_heading level0 col3\" >Avg Total Purchase Per Person</th>    </tr>    <tr>        <th class=\"index_name level0\" >Age Group</th>        <th class=\"blank\" ></th>        <th class=\"blank\" ></th>        <th class=\"blank\" ></th>        <th class=\"blank\" ></th>    </tr></thead><tbody>\n",
       "                <tr>\n",
       "                        <th id=\"T_53ad3900_3dd0_11eb_8d76_88cea25f11eclevel0_row0\" class=\"row_heading level0 row0\" >>10</th>\n",
       "                        <td id=\"T_53ad3900_3dd0_11eb_8d76_88cea25f11ecrow0_col0\" class=\"data row0 col0\" >23</td>\n",
       "                        <td id=\"T_53ad3900_3dd0_11eb_8d76_88cea25f11ecrow0_col1\" class=\"data row0 col1\" >$3.35</td>\n",
       "                        <td id=\"T_53ad3900_3dd0_11eb_8d76_88cea25f11ecrow0_col2\" class=\"data row0 col2\" >$77.13</td>\n",
       "                        <td id=\"T_53ad3900_3dd0_11eb_8d76_88cea25f11ecrow0_col3\" class=\"data row0 col3\" >$4.54</td>\n",
       "            </tr>\n",
       "            <tr>\n",
       "                        <th id=\"T_53ad3900_3dd0_11eb_8d76_88cea25f11eclevel0_row1\" class=\"row_heading level0 row1\" >10-14</th>\n",
       "                        <td id=\"T_53ad3900_3dd0_11eb_8d76_88cea25f11ecrow1_col0\" class=\"data row1 col0\" >28</td>\n",
       "                        <td id=\"T_53ad3900_3dd0_11eb_8d76_88cea25f11ecrow1_col1\" class=\"data row1 col1\" >$2.96</td>\n",
       "                        <td id=\"T_53ad3900_3dd0_11eb_8d76_88cea25f11ecrow1_col2\" class=\"data row1 col2\" >$82.78</td>\n",
       "                        <td id=\"T_53ad3900_3dd0_11eb_8d76_88cea25f11ecrow1_col3\" class=\"data row1 col3\" >$3.76</td>\n",
       "            </tr>\n",
       "            <tr>\n",
       "                        <th id=\"T_53ad3900_3dd0_11eb_8d76_88cea25f11eclevel0_row2\" class=\"row_heading level0 row2\" >15-19</th>\n",
       "                        <td id=\"T_53ad3900_3dd0_11eb_8d76_88cea25f11ecrow2_col0\" class=\"data row2 col0\" >136</td>\n",
       "                        <td id=\"T_53ad3900_3dd0_11eb_8d76_88cea25f11ecrow2_col1\" class=\"data row2 col1\" >$3.04</td>\n",
       "                        <td id=\"T_53ad3900_3dd0_11eb_8d76_88cea25f11ecrow2_col2\" class=\"data row2 col2\" >$412.89</td>\n",
       "                        <td id=\"T_53ad3900_3dd0_11eb_8d76_88cea25f11ecrow2_col3\" class=\"data row2 col3\" >$3.86</td>\n",
       "            </tr>\n",
       "            <tr>\n",
       "                        <th id=\"T_53ad3900_3dd0_11eb_8d76_88cea25f11eclevel0_row3\" class=\"row_heading level0 row3\" >20-24</th>\n",
       "                        <td id=\"T_53ad3900_3dd0_11eb_8d76_88cea25f11ecrow3_col0\" class=\"data row3 col0\" >365</td>\n",
       "                        <td id=\"T_53ad3900_3dd0_11eb_8d76_88cea25f11ecrow3_col1\" class=\"data row3 col1\" >$3.05</td>\n",
       "                        <td id=\"T_53ad3900_3dd0_11eb_8d76_88cea25f11ecrow3_col2\" class=\"data row3 col2\" >$1,114.06</td>\n",
       "                        <td id=\"T_53ad3900_3dd0_11eb_8d76_88cea25f11ecrow3_col3\" class=\"data row3 col3\" >$4.32</td>\n",
       "            </tr>\n",
       "            <tr>\n",
       "                        <th id=\"T_53ad3900_3dd0_11eb_8d76_88cea25f11eclevel0_row4\" class=\"row_heading level0 row4\" >25-29</th>\n",
       "                        <td id=\"T_53ad3900_3dd0_11eb_8d76_88cea25f11ecrow4_col0\" class=\"data row4 col0\" >101</td>\n",
       "                        <td id=\"T_53ad3900_3dd0_11eb_8d76_88cea25f11ecrow4_col1\" class=\"data row4 col1\" >$2.90</td>\n",
       "                        <td id=\"T_53ad3900_3dd0_11eb_8d76_88cea25f11ecrow4_col2\" class=\"data row4 col2\" >$293.00</td>\n",
       "                        <td id=\"T_53ad3900_3dd0_11eb_8d76_88cea25f11ecrow4_col3\" class=\"data row4 col3\" >$3.81</td>\n",
       "            </tr>\n",
       "            <tr>\n",
       "                        <th id=\"T_53ad3900_3dd0_11eb_8d76_88cea25f11eclevel0_row5\" class=\"row_heading level0 row5\" >30-34</th>\n",
       "                        <td id=\"T_53ad3900_3dd0_11eb_8d76_88cea25f11ecrow5_col0\" class=\"data row5 col0\" >73</td>\n",
       "                        <td id=\"T_53ad3900_3dd0_11eb_8d76_88cea25f11ecrow5_col1\" class=\"data row5 col1\" >$2.93</td>\n",
       "                        <td id=\"T_53ad3900_3dd0_11eb_8d76_88cea25f11ecrow5_col2\" class=\"data row5 col2\" >$214.00</td>\n",
       "                        <td id=\"T_53ad3900_3dd0_11eb_8d76_88cea25f11ecrow5_col3\" class=\"data row5 col3\" >$4.12</td>\n",
       "            </tr>\n",
       "            <tr>\n",
       "                        <th id=\"T_53ad3900_3dd0_11eb_8d76_88cea25f11eclevel0_row6\" class=\"row_heading level0 row6\" >35-39</th>\n",
       "                        <td id=\"T_53ad3900_3dd0_11eb_8d76_88cea25f11ecrow6_col0\" class=\"data row6 col0\" >41</td>\n",
       "                        <td id=\"T_53ad3900_3dd0_11eb_8d76_88cea25f11ecrow6_col1\" class=\"data row6 col1\" >$3.60</td>\n",
       "                        <td id=\"T_53ad3900_3dd0_11eb_8d76_88cea25f11ecrow6_col2\" class=\"data row6 col2\" >$147.67</td>\n",
       "                        <td id=\"T_53ad3900_3dd0_11eb_8d76_88cea25f11ecrow6_col3\" class=\"data row6 col3\" >$4.76</td>\n",
       "            </tr>\n",
       "            <tr>\n",
       "                        <th id=\"T_53ad3900_3dd0_11eb_8d76_88cea25f11eclevel0_row7\" class=\"row_heading level0 row7\" >40+</th>\n",
       "                        <td id=\"T_53ad3900_3dd0_11eb_8d76_88cea25f11ecrow7_col0\" class=\"data row7 col0\" >13</td>\n",
       "                        <td id=\"T_53ad3900_3dd0_11eb_8d76_88cea25f11ecrow7_col1\" class=\"data row7 col1\" >$2.94</td>\n",
       "                        <td id=\"T_53ad3900_3dd0_11eb_8d76_88cea25f11ecrow7_col2\" class=\"data row7 col2\" >$38.24</td>\n",
       "                        <td id=\"T_53ad3900_3dd0_11eb_8d76_88cea25f11ecrow7_col3\" class=\"data row7 col3\" >$3.19</td>\n",
       "            </tr>\n",
       "    </tbody></table>"
      ],
      "text/plain": [
       "<pandas.io.formats.style.Styler at 0x1d06c31cf60>"
      ]
     },
     "execution_count": 9,
     "metadata": {},
     "output_type": "execute_result"
    }
   ],
   "source": [
    "bins = [0, 9.9, 14.9, 19.9, 24.9, 29.9, 34.9, 39.9, 100]\n",
    "\n",
    "group_labels = [\">10\", \"10-14\", \"15-19\", \"20-24\", \"25-29\", \"30-34\", \"35-39\", \"40+\"]\n",
    "\n",
    "purchase_data[\"Age Group\"] = pd.cut(purchase_data[\"Age\"], bins, labels=group_labels)\n",
    "purchase_data_group = purchase_data.groupby([\"Age Group\"])\n",
    "purchases_per_age = purchase_data_group[\"Purchase ID\"].count()\n",
    "avg_price_per_age = round(purchase_data_group[\"Price\"].mean(),2)\n",
    "total_price_per_age = purchase_data_group[\"Price\"].sum()\n",
    "avg_price_per_person_per_age = round(total_price_per_age/number_per_age,2)\n",
    "\n",
    "merged_age_group_prices = pd.merge(purchases_per_age, avg_price_per_age, on = \"Age Group\")\n",
    "merged_age_group_prices_all = pd.merge(merged_age_group_prices, total_price_per_age, on = \"Age Group\")\n",
    "merged_age_group_prices_all[\"Avg Total Purchase Per Person\"] = avg_price_per_person_per_age\n",
    "\n",
    "merged_age_group_prices_all_renamed = merged_age_group_prices_all.rename(columns={\"Purchase ID\" : \"Purchase Count\",\n",
    "                                                                                  \"Price_x\": \"Average Purchase Price\",\n",
    "                                                                                  \"Price_y\": \"Total Purchase Value\"})\n",
    "\n",
    "# formatting found on https://pbpython.com/styling-pandas.html\n",
    "\n",
    "format_price = {\"Average Purchase Price\" :\"${:,.2f}\", \"Total Purchase Value\" : \"${:,.2f}\", \"Avg Total Purchase Per Person\" : \"${:,.2f}\"}\n",
    "\n",
    "merged_age_group_prices_all_renamed.style.format(format_price)"
   ]
  },
  {
   "cell_type": "markdown",
   "metadata": {},
   "source": [
    "## Top Spenders"
   ]
  },
  {
   "cell_type": "markdown",
   "metadata": {},
   "source": [
    "* Run basic calculations to obtain the results in the table below\n",
    "\n",
    "\n",
    "* Create a summary data frame to hold the results\n",
    "\n",
    "\n",
    "* Sort the total purchase value column in descending order\n",
    "\n",
    "\n",
    "* Optional: give the displayed data cleaner formatting\n",
    "\n",
    "\n",
    "* Display a preview of the summary data frame\n",
    "\n"
   ]
  },
  {
   "cell_type": "code",
   "execution_count": 10,
   "metadata": {},
   "outputs": [
    {
     "data": {
      "text/html": [
       "<style  type=\"text/css\" >\n",
       "</style><table id=\"T_5c958d3a_3dd0_11eb_9416_88cea25f11ec\" ><thead>    <tr>        <th class=\"blank level0\" ></th>        <th class=\"col_heading level0 col0\" >Purchase Count</th>        <th class=\"col_heading level0 col1\" >Average Purchase Price</th>        <th class=\"col_heading level0 col2\" >Total Purchase Value</th>    </tr>    <tr>        <th class=\"index_name level0\" >SN</th>        <th class=\"blank\" ></th>        <th class=\"blank\" ></th>        <th class=\"blank\" ></th>    </tr></thead><tbody>\n",
       "                <tr>\n",
       "                        <th id=\"T_5c958d3a_3dd0_11eb_9416_88cea25f11eclevel0_row0\" class=\"row_heading level0 row0\" >Lisosia93</th>\n",
       "                        <td id=\"T_5c958d3a_3dd0_11eb_9416_88cea25f11ecrow0_col0\" class=\"data row0 col0\" >5</td>\n",
       "                        <td id=\"T_5c958d3a_3dd0_11eb_9416_88cea25f11ecrow0_col1\" class=\"data row0 col1\" >$3.79</td>\n",
       "                        <td id=\"T_5c958d3a_3dd0_11eb_9416_88cea25f11ecrow0_col2\" class=\"data row0 col2\" >$18.96</td>\n",
       "            </tr>\n",
       "            <tr>\n",
       "                        <th id=\"T_5c958d3a_3dd0_11eb_9416_88cea25f11eclevel0_row1\" class=\"row_heading level0 row1\" >Idastidru52</th>\n",
       "                        <td id=\"T_5c958d3a_3dd0_11eb_9416_88cea25f11ecrow1_col0\" class=\"data row1 col0\" >4</td>\n",
       "                        <td id=\"T_5c958d3a_3dd0_11eb_9416_88cea25f11ecrow1_col1\" class=\"data row1 col1\" >$3.86</td>\n",
       "                        <td id=\"T_5c958d3a_3dd0_11eb_9416_88cea25f11ecrow1_col2\" class=\"data row1 col2\" >$15.45</td>\n",
       "            </tr>\n",
       "            <tr>\n",
       "                        <th id=\"T_5c958d3a_3dd0_11eb_9416_88cea25f11eclevel0_row2\" class=\"row_heading level0 row2\" >Chamjask73</th>\n",
       "                        <td id=\"T_5c958d3a_3dd0_11eb_9416_88cea25f11ecrow2_col0\" class=\"data row2 col0\" >3</td>\n",
       "                        <td id=\"T_5c958d3a_3dd0_11eb_9416_88cea25f11ecrow2_col1\" class=\"data row2 col1\" >$4.61</td>\n",
       "                        <td id=\"T_5c958d3a_3dd0_11eb_9416_88cea25f11ecrow2_col2\" class=\"data row2 col2\" >$13.83</td>\n",
       "            </tr>\n",
       "            <tr>\n",
       "                        <th id=\"T_5c958d3a_3dd0_11eb_9416_88cea25f11eclevel0_row3\" class=\"row_heading level0 row3\" >Iral74</th>\n",
       "                        <td id=\"T_5c958d3a_3dd0_11eb_9416_88cea25f11ecrow3_col0\" class=\"data row3 col0\" >4</td>\n",
       "                        <td id=\"T_5c958d3a_3dd0_11eb_9416_88cea25f11ecrow3_col1\" class=\"data row3 col1\" >$3.40</td>\n",
       "                        <td id=\"T_5c958d3a_3dd0_11eb_9416_88cea25f11ecrow3_col2\" class=\"data row3 col2\" >$13.62</td>\n",
       "            </tr>\n",
       "            <tr>\n",
       "                        <th id=\"T_5c958d3a_3dd0_11eb_9416_88cea25f11eclevel0_row4\" class=\"row_heading level0 row4\" >Iskadarya95</th>\n",
       "                        <td id=\"T_5c958d3a_3dd0_11eb_9416_88cea25f11ecrow4_col0\" class=\"data row4 col0\" >3</td>\n",
       "                        <td id=\"T_5c958d3a_3dd0_11eb_9416_88cea25f11ecrow4_col1\" class=\"data row4 col1\" >$4.37</td>\n",
       "                        <td id=\"T_5c958d3a_3dd0_11eb_9416_88cea25f11ecrow4_col2\" class=\"data row4 col2\" >$13.10</td>\n",
       "            </tr>\n",
       "    </tbody></table>"
      ],
      "text/plain": [
       "<pandas.io.formats.style.Styler at 0x1d06c31c390>"
      ]
     },
     "execution_count": 10,
     "metadata": {},
     "output_type": "execute_result"
    }
   ],
   "source": [
    "purchase_data_spend = purchase_data.groupby(\"SN\")[\"Purchase ID\"].count()\n",
    "purchase_data_spend_avg = round(purchase_data.groupby(\"SN\")[\"Price\"].mean(),2)\n",
    "purchase_data_spend_total = purchase_data.groupby(\"SN\")[\"Price\"].sum()\n",
    "\n",
    "merged_data_SN = pd.merge(purchase_data_spend, purchase_data_spend_avg, on = \"SN\")\n",
    "merged_data_all = pd.merge(merged_data_SN, purchase_data_spend_total, on = \"SN\")\n",
    "\n",
    "merged_data_all_renamed = merged_data_all.rename(columns={\"Purchase ID\" : \"Purchase Count\",\n",
    "                                                          \"Price_x\": \"Average Purchase Price\",\n",
    "                                                          \"Price_y\": \"Total Purchase Value\"})\n",
    "\n",
    "merged_data_sorted = merged_data_all_renamed.sort_values(\"Total Purchase Value\", ascending=False)\n",
    "\n",
    "# formatting found on https://pbpython.com/styling-pandas.html\n",
    "\n",
    "format_price = {\"Average Purchase Price\" :\"${:,.2f}\", \"Total Purchase Value\" : \"${:,.2f}\"}\n",
    "\n",
    "merged_data_sorted.head().style.format(format_price)"
   ]
  },
  {
   "cell_type": "markdown",
   "metadata": {},
   "source": [
    "## Most Popular Items"
   ]
  },
  {
   "cell_type": "markdown",
   "metadata": {},
   "source": [
    "* Retrieve the Item ID, Item Name, and Item Price columns\n",
    "\n",
    "\n",
    "* Group by Item ID and Item Name. Perform calculations to obtain purchase count, average item price, and total purchase value\n",
    "\n",
    "\n",
    "* Create a summary data frame to hold the results\n",
    "\n",
    "\n",
    "* Sort the purchase count column in descending order\n",
    "\n",
    "\n",
    "* Optional: give the displayed data cleaner formatting\n",
    "\n",
    "\n",
    "* Display a preview of the summary data frame\n",
    "\n"
   ]
  },
  {
   "cell_type": "code",
   "execution_count": 11,
   "metadata": {},
   "outputs": [
    {
     "data": {
      "text/html": [
       "<style  type=\"text/css\" >\n",
       "</style><table id=\"T_63fc644a_3dd0_11eb_bd53_88cea25f11ec\" ><thead>    <tr>        <th class=\"blank\" ></th>        <th class=\"blank level0\" ></th>        <th class=\"col_heading level0 col0\" >Purchase Count</th>        <th class=\"col_heading level0 col1\" >Item Price</th>        <th class=\"col_heading level0 col2\" >Total Purchase Value</th>    </tr>    <tr>        <th class=\"index_name level0\" >Item ID</th>        <th class=\"index_name level1\" >Item Name</th>        <th class=\"blank\" ></th>        <th class=\"blank\" ></th>        <th class=\"blank\" ></th>    </tr></thead><tbody>\n",
       "                <tr>\n",
       "                        <th id=\"T_63fc644a_3dd0_11eb_bd53_88cea25f11eclevel0_row0\" class=\"row_heading level0 row0\" >92</th>\n",
       "                        <th id=\"T_63fc644a_3dd0_11eb_bd53_88cea25f11eclevel1_row0\" class=\"row_heading level1 row0\" >Final Critic</th>\n",
       "                        <td id=\"T_63fc644a_3dd0_11eb_bd53_88cea25f11ecrow0_col0\" class=\"data row0 col0\" >13</td>\n",
       "                        <td id=\"T_63fc644a_3dd0_11eb_bd53_88cea25f11ecrow0_col1\" class=\"data row0 col1\" >$4.61</td>\n",
       "                        <td id=\"T_63fc644a_3dd0_11eb_bd53_88cea25f11ecrow0_col2\" class=\"data row0 col2\" >$59.99</td>\n",
       "            </tr>\n",
       "            <tr>\n",
       "                        <th id=\"T_63fc644a_3dd0_11eb_bd53_88cea25f11eclevel0_row1\" class=\"row_heading level0 row1\" >178</th>\n",
       "                        <th id=\"T_63fc644a_3dd0_11eb_bd53_88cea25f11eclevel1_row1\" class=\"row_heading level1 row1\" >Oathbreaker, Last Hope of the Breaking Storm</th>\n",
       "                        <td id=\"T_63fc644a_3dd0_11eb_bd53_88cea25f11ecrow1_col0\" class=\"data row1 col0\" >12</td>\n",
       "                        <td id=\"T_63fc644a_3dd0_11eb_bd53_88cea25f11ecrow1_col1\" class=\"data row1 col1\" >$4.23</td>\n",
       "                        <td id=\"T_63fc644a_3dd0_11eb_bd53_88cea25f11ecrow1_col2\" class=\"data row1 col2\" >$50.76</td>\n",
       "            </tr>\n",
       "            <tr>\n",
       "                        <th id=\"T_63fc644a_3dd0_11eb_bd53_88cea25f11eclevel0_row2\" class=\"row_heading level0 row2\" >145</th>\n",
       "                        <th id=\"T_63fc644a_3dd0_11eb_bd53_88cea25f11eclevel1_row2\" class=\"row_heading level1 row2\" >Fiery Glass Crusader</th>\n",
       "                        <td id=\"T_63fc644a_3dd0_11eb_bd53_88cea25f11ecrow2_col0\" class=\"data row2 col0\" >9</td>\n",
       "                        <td id=\"T_63fc644a_3dd0_11eb_bd53_88cea25f11ecrow2_col1\" class=\"data row2 col1\" >$4.58</td>\n",
       "                        <td id=\"T_63fc644a_3dd0_11eb_bd53_88cea25f11ecrow2_col2\" class=\"data row2 col2\" >$41.22</td>\n",
       "            </tr>\n",
       "            <tr>\n",
       "                        <th id=\"T_63fc644a_3dd0_11eb_bd53_88cea25f11eclevel0_row3\" class=\"row_heading level0 row3\" >132</th>\n",
       "                        <th id=\"T_63fc644a_3dd0_11eb_bd53_88cea25f11eclevel1_row3\" class=\"row_heading level1 row3\" >Persuasion</th>\n",
       "                        <td id=\"T_63fc644a_3dd0_11eb_bd53_88cea25f11ecrow3_col0\" class=\"data row3 col0\" >9</td>\n",
       "                        <td id=\"T_63fc644a_3dd0_11eb_bd53_88cea25f11ecrow3_col1\" class=\"data row3 col1\" >$3.22</td>\n",
       "                        <td id=\"T_63fc644a_3dd0_11eb_bd53_88cea25f11ecrow3_col2\" class=\"data row3 col2\" >$28.99</td>\n",
       "            </tr>\n",
       "            <tr>\n",
       "                        <th id=\"T_63fc644a_3dd0_11eb_bd53_88cea25f11eclevel0_row4\" class=\"row_heading level0 row4\" >108</th>\n",
       "                        <th id=\"T_63fc644a_3dd0_11eb_bd53_88cea25f11eclevel1_row4\" class=\"row_heading level1 row4\" >Extraction, Quickblade Of Trembling Hands</th>\n",
       "                        <td id=\"T_63fc644a_3dd0_11eb_bd53_88cea25f11ecrow4_col0\" class=\"data row4 col0\" >9</td>\n",
       "                        <td id=\"T_63fc644a_3dd0_11eb_bd53_88cea25f11ecrow4_col1\" class=\"data row4 col1\" >$3.53</td>\n",
       "                        <td id=\"T_63fc644a_3dd0_11eb_bd53_88cea25f11ecrow4_col2\" class=\"data row4 col2\" >$31.77</td>\n",
       "            </tr>\n",
       "    </tbody></table>"
      ],
      "text/plain": [
       "<pandas.io.formats.style.Styler at 0x1d06c347390>"
      ]
     },
     "execution_count": 11,
     "metadata": {},
     "output_type": "execute_result"
    }
   ],
   "source": [
    "purchase_data_item = purchase_data.groupby([\"Item ID\", \"Item Name\"])[\"Purchase ID\"].count()\n",
    "purchase_data_item_total = purchase_data.groupby([\"Item ID\", \"Item Name\"])[\"Price\"].sum()\n",
    "\n",
    "merged_data_item = pd.merge(purchase_data_item, purchase_data_item_total, on = [\"Item ID\",\"Item Name\"])\n",
    "\n",
    "merged_data_item_renamed = merged_data_item.rename(columns={\"Purchase ID\" : \"Purchase Count\",\n",
    "                                                            \"Price\": \"Total Purchase Value\"})\n",
    "\n",
    "merged_data_item_renamed[\"Item Price\"] = round(merged_data_item_renamed[\"Total Purchase Value\"]/merged_data_item_renamed[\"Purchase Count\"],2)\n",
    "\n",
    "merged_data_item_ordered = merged_data_item_renamed[[\"Purchase Count\", \"Item Price\", \"Total Purchase Value\"]]\n",
    "\n",
    "merged_data_item_sorted = merged_data_item_ordered.sort_values(\"Purchase Count\", ascending=False)\n",
    "\n",
    "# formatting found on https://pbpython.com/styling-pandas.html\n",
    "\n",
    "format_price = {\"Item Price\" :\"${:,.2f}\", \"Total Purchase Value\" : \"${:,.2f}\"}\n",
    "\n",
    "merged_data_item_sorted.head().style.format(format_price)"
   ]
  },
  {
   "cell_type": "markdown",
   "metadata": {},
   "source": [
    "## Most Profitable Items"
   ]
  },
  {
   "cell_type": "markdown",
   "metadata": {},
   "source": [
    "* Sort the above table by total purchase value in descending order\n",
    "\n",
    "\n",
    "* Optional: give the displayed data cleaner formatting\n",
    "\n",
    "\n",
    "* Display a preview of the data frame\n",
    "\n"
   ]
  },
  {
   "cell_type": "code",
   "execution_count": 12,
   "metadata": {
    "scrolled": true
   },
   "outputs": [
    {
     "data": {
      "text/html": [
       "<style  type=\"text/css\" >\n",
       "</style><table id=\"T_6c16dbc6_3dd0_11eb_942a_88cea25f11ec\" ><thead>    <tr>        <th class=\"blank\" ></th>        <th class=\"blank level0\" ></th>        <th class=\"col_heading level0 col0\" >Purchase Count</th>        <th class=\"col_heading level0 col1\" >Item Price</th>        <th class=\"col_heading level0 col2\" >Total Purchase Value</th>    </tr>    <tr>        <th class=\"index_name level0\" >Item ID</th>        <th class=\"index_name level1\" >Item Name</th>        <th class=\"blank\" ></th>        <th class=\"blank\" ></th>        <th class=\"blank\" ></th>    </tr></thead><tbody>\n",
       "                <tr>\n",
       "                        <th id=\"T_6c16dbc6_3dd0_11eb_942a_88cea25f11eclevel0_row0\" class=\"row_heading level0 row0\" >92</th>\n",
       "                        <th id=\"T_6c16dbc6_3dd0_11eb_942a_88cea25f11eclevel1_row0\" class=\"row_heading level1 row0\" >Final Critic</th>\n",
       "                        <td id=\"T_6c16dbc6_3dd0_11eb_942a_88cea25f11ecrow0_col0\" class=\"data row0 col0\" >13</td>\n",
       "                        <td id=\"T_6c16dbc6_3dd0_11eb_942a_88cea25f11ecrow0_col1\" class=\"data row0 col1\" >$4.61</td>\n",
       "                        <td id=\"T_6c16dbc6_3dd0_11eb_942a_88cea25f11ecrow0_col2\" class=\"data row0 col2\" >$59.99</td>\n",
       "            </tr>\n",
       "            <tr>\n",
       "                        <th id=\"T_6c16dbc6_3dd0_11eb_942a_88cea25f11eclevel0_row1\" class=\"row_heading level0 row1\" >178</th>\n",
       "                        <th id=\"T_6c16dbc6_3dd0_11eb_942a_88cea25f11eclevel1_row1\" class=\"row_heading level1 row1\" >Oathbreaker, Last Hope of the Breaking Storm</th>\n",
       "                        <td id=\"T_6c16dbc6_3dd0_11eb_942a_88cea25f11ecrow1_col0\" class=\"data row1 col0\" >12</td>\n",
       "                        <td id=\"T_6c16dbc6_3dd0_11eb_942a_88cea25f11ecrow1_col1\" class=\"data row1 col1\" >$4.23</td>\n",
       "                        <td id=\"T_6c16dbc6_3dd0_11eb_942a_88cea25f11ecrow1_col2\" class=\"data row1 col2\" >$50.76</td>\n",
       "            </tr>\n",
       "            <tr>\n",
       "                        <th id=\"T_6c16dbc6_3dd0_11eb_942a_88cea25f11eclevel0_row2\" class=\"row_heading level0 row2\" >82</th>\n",
       "                        <th id=\"T_6c16dbc6_3dd0_11eb_942a_88cea25f11eclevel1_row2\" class=\"row_heading level1 row2\" >Nirvana</th>\n",
       "                        <td id=\"T_6c16dbc6_3dd0_11eb_942a_88cea25f11ecrow2_col0\" class=\"data row2 col0\" >9</td>\n",
       "                        <td id=\"T_6c16dbc6_3dd0_11eb_942a_88cea25f11ecrow2_col1\" class=\"data row2 col1\" >$4.90</td>\n",
       "                        <td id=\"T_6c16dbc6_3dd0_11eb_942a_88cea25f11ecrow2_col2\" class=\"data row2 col2\" >$44.10</td>\n",
       "            </tr>\n",
       "            <tr>\n",
       "                        <th id=\"T_6c16dbc6_3dd0_11eb_942a_88cea25f11eclevel0_row3\" class=\"row_heading level0 row3\" >145</th>\n",
       "                        <th id=\"T_6c16dbc6_3dd0_11eb_942a_88cea25f11eclevel1_row3\" class=\"row_heading level1 row3\" >Fiery Glass Crusader</th>\n",
       "                        <td id=\"T_6c16dbc6_3dd0_11eb_942a_88cea25f11ecrow3_col0\" class=\"data row3 col0\" >9</td>\n",
       "                        <td id=\"T_6c16dbc6_3dd0_11eb_942a_88cea25f11ecrow3_col1\" class=\"data row3 col1\" >$4.58</td>\n",
       "                        <td id=\"T_6c16dbc6_3dd0_11eb_942a_88cea25f11ecrow3_col2\" class=\"data row3 col2\" >$41.22</td>\n",
       "            </tr>\n",
       "            <tr>\n",
       "                        <th id=\"T_6c16dbc6_3dd0_11eb_942a_88cea25f11eclevel0_row4\" class=\"row_heading level0 row4\" >103</th>\n",
       "                        <th id=\"T_6c16dbc6_3dd0_11eb_942a_88cea25f11eclevel1_row4\" class=\"row_heading level1 row4\" >Singed Scalpel</th>\n",
       "                        <td id=\"T_6c16dbc6_3dd0_11eb_942a_88cea25f11ecrow4_col0\" class=\"data row4 col0\" >8</td>\n",
       "                        <td id=\"T_6c16dbc6_3dd0_11eb_942a_88cea25f11ecrow4_col1\" class=\"data row4 col1\" >$4.35</td>\n",
       "                        <td id=\"T_6c16dbc6_3dd0_11eb_942a_88cea25f11ecrow4_col2\" class=\"data row4 col2\" >$34.80</td>\n",
       "            </tr>\n",
       "    </tbody></table>"
      ],
      "text/plain": [
       "<pandas.io.formats.style.Styler at 0x1d06b26b4a8>"
      ]
     },
     "execution_count": 12,
     "metadata": {},
     "output_type": "execute_result"
    }
   ],
   "source": [
    "merged_data_item_sorted = merged_data_item_ordered.sort_values(\"Total Purchase Value\", ascending=False)\n",
    "\n",
    "# formatting found on https://pbpython.com/styling-pandas.html\n",
    "\n",
    "format_price = {\"Item Price\" :\"${:,.2f}\", \"Total Purchase Value\" : \"${:,.2f}\"}\n",
    "\n",
    "merged_data_item_sorted.head().style.format(format_price)"
   ]
  }
 ],
 "metadata": {
  "anaconda-cloud": {},
  "kernel_info": {
   "name": "python3"
  },
  "kernelspec": {
   "display_name": "Python 3",
   "language": "python",
   "name": "python3"
  },
  "language_info": {
   "codemirror_mode": {
    "name": "ipython",
    "version": 3
   },
   "file_extension": ".py",
   "mimetype": "text/x-python",
   "name": "python",
   "nbconvert_exporter": "python",
   "pygments_lexer": "ipython3",
   "version": "3.6.10"
  },
  "latex_envs": {
   "LaTeX_envs_menu_present": true,
   "autoclose": false,
   "autocomplete": true,
   "bibliofile": "biblio.bib",
   "cite_by": "apalike",
   "current_citInitial": 1,
   "eqLabelWithNumbers": true,
   "eqNumInitial": 1,
   "hotkeys": {
    "equation": "Ctrl-E",
    "itemize": "Ctrl-I"
   },
   "labels_anchors": false,
   "latex_user_defs": false,
   "report_style_numbering": false,
   "user_envs_cfg": false
  },
  "nteract": {
   "version": "0.2.0"
  }
 },
 "nbformat": 4,
 "nbformat_minor": 2
}
